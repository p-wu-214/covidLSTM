{
 "cells": [
  {
   "cell_type": "code",
   "execution_count": 9,
   "metadata": {},
   "outputs": [],
   "source": [
    "import pandas as pd\n",
    "import os\n",
    "import matplotlib.pyplot as plt\n",
    "import numpy as np\n",
    "from keras.preprocessing.text import Tokenizer\n",
    "from keras.preprocessing.sequence import pad_sequences\n",
    "## MaxPooling1D takes the max value from each d x 1 section of the input\n",
    "## where d is the pool_size\n",
    "## eg) [1,2,3,4] pool_size = 2 output = [2, 4]\n",
    "## GlobalMaxPooling1D just takes the entire input as the pool_size\n",
    "from keras.layers import Dense, Input, GlobalMaxPooling1D\n",
    "## Remember embedding uses indexing rather than matrix multiple for efficiency\n",
    "## To map input word into embedded word vector (part trained by others)\n",
    "from keras.layers import Conv1D, MaxPooling1D, Embedding\n",
    "from keras.models import Model\n",
    "from sklearn.metrics import roc_auc_score"
   ]
  },
  {
   "cell_type": "code",
   "execution_count": 2,
   "metadata": {},
   "outputs": [],
   "source": [
    "## This project creates a model for seeing if a comment is toxic or not"
   ]
  },
  {
   "cell_type": "code",
   "execution_count": 3,
   "metadata": {},
   "outputs": [],
   "source": [
    "## max length for comment\n",
    "## you can use the maximum length found after reading in entire dataset\n",
    "## or you can use histogram and find length that covers most of dataset\n",
    "MAX_SEQUENCE_LENGTH = 100\n",
    "## this is based on research saying native speakers know 20000 words but who knows\n",
    "MAX_VOCAB_SIZE = 20000\n",
    "## size of each word vector usually preset if using already trained hyperparameters\n",
    "EMBEDDING_DIM = 100;\n",
    "VALIDATION_SPLIT = 0.2\n",
    "BATCH_SIZE = 128\n",
    "EPOCHS = 10"
   ]
  },
  {
   "cell_type": "code",
   "execution_count": 11,
   "metadata": {},
   "outputs": [
    {
     "name": "stdout",
     "output_type": "stream",
     "text": [
      "Loading word vectors...\n",
      "Found 44 word vectors.\n"
     ]
    }
   ],
   "source": [
    "## loading in the text file and creating a dictionary from word to word vector\n",
    "print('Loading word vectors...')\n",
    "word2vec = {}\n",
    "with open(os.path.join('work_embedding/glove.6B.%sd.txt' % EMBEDDING_DIM)) as f:\n",
    "    for line in f:\n",
    "        values = line.split()\n",
    "        word = values[0]\n",
    "        vec=np.asarray(values[1:], dtype='float32')\n",
    "        word2vec[word] = vec\n",
    "print('Found %s word vectors.' % len(word2vec))"
   ]
  },
  {
   "cell_type": "code",
   "execution_count": 18,
   "metadata": {},
   "outputs": [
    {
     "name": "stdout",
     "output_type": "stream",
     "text": [
      "Loading in comments...\n"
     ]
    }
   ],
   "source": [
    "print('Loading in comments...')\n",
    "train = pd.read_csv('data/train.csv')\n",
    "sentences = train['comment_text'].fillna('DUMMY_VALUE').values\n",
    "possible_labels = ['toxic', 'severe_toxic', 'obscene', 'threat', 'insult', 'identity_hate']\n",
    "targets = train[possible_labels].values;"
   ]
  },
  {
   "cell_type": "code",
   "execution_count": 19,
   "metadata": {},
   "outputs": [
    {
     "name": "stdout",
     "output_type": "stream",
     "text": [
      "max sequence length:  5000\n",
      "min sequence length:  6\n",
      "median sequence length:  205\n"
     ]
    }
   ],
   "source": [
    "print('max sequence length: ', max(len(s) for s in sentences))\n",
    "print('min sequence length: ', min(len(s) for s in sentences))\n",
    "s = sorted(len(s) for s in sentences)\n",
    "print('median sequence length: ', s[len(s) // 2])"
   ]
  },
  {
   "cell_type": "code",
   "execution_count": 23,
   "metadata": {},
   "outputs": [],
   "source": [
    "## Converts sentences from strings to integer representations (for each letter)\n",
    "## Turn sentences into list of tokens and convert tokens into integers\n",
    "tokenizer = Tokenizer(num_words=MAX_VOCAB_SIZE)\n",
    "## fit_on_texts creates/updates vocabulary index dictionary based on word frequency\n",
    "## More frequent words in the argument will give lower integer\n",
    "tokenizer.fit_on_texts(sentences)\n",
    "## transforms the text in the argument into integer using vocabulary index dictionary\n",
    "## created from fit_on_texts\n",
    "sequences = tokenizer.texts_to_sequences(sentences)"
   ]
  },
  {
   "cell_type": "code",
   "execution_count": 48,
   "metadata": {},
   "outputs": [
    {
     "name": "stdout",
     "output_type": "stream",
     "text": [
      "Found 210337 unique tokens: \n"
     ]
    }
   ],
   "source": [
    "# maps word to index\n",
    "word2idx = tokenizer.word_index\n",
    "print('Found %s unique tokens' % len(word2idx))"
   ]
  },
  {
   "cell_type": "code",
   "execution_count": 49,
   "metadata": {},
   "outputs": [
    {
     "data": {
      "text/plain": [
       "(47, 17, 40)"
      ]
     },
     "execution_count": 49,
     "metadata": {},
     "output_type": "execute_result"
    }
   ],
   "source": [
    "len(sequences[0]), len(sequences[1]), len(sequences[20])"
   ]
  },
  {
   "cell_type": "code",
   "execution_count": 53,
   "metadata": {},
   "outputs": [
    {
     "name": "stdout",
     "output_type": "stream",
     "text": [
      "Shape of data tensor:  (159571, 100)\n"
     ]
    }
   ],
   "source": [
    "# note how after tokenizer the number for each sequence is still different\n",
    "# here we will pad the sequences to make sure they are all same length\n",
    "# note this is preset to 100 even though median is 200 lol\n",
    "# note this pads with 0 which is the dummy value for the word2idx dictionary\n",
    "data = pad_sequences(sequences, maxlen=MAX_SEQUENCE_LENGTH)\n",
    "print('Shape of data tensor: ', data.shape)"
   ]
  },
  {
   "cell_type": "code",
   "execution_count": 57,
   "metadata": {},
   "outputs": [
    {
     "name": "stdout",
     "output_type": "stream",
     "text": [
      "Filling pre-trained embeddings...\n"
     ]
    }
   ],
   "source": [
    "print('Filling pre-trained embeddings...')\n",
    "# no point being bigger than number of words in word2idx cause..pointless\n",
    "# +1 because keras starts at 1, so to use 20000\n",
    "num_words = min(MAX_VOCAB_SIZE, len(word2idx) + 1)\n",
    "embedding_matrix = np.zeros((num_words, EMBEDDING_DIM))\n",
    "# iterator through (key, value) pairs in dict\n",
    "# this will generate an embedding layer where each layer is word2idx\n",
    "# word (so most common goes on top in the layer) but translated to vector\n",
    "# form using pre-trained embedding vector from glove\n",
    "for word, i in word2idx.items():\n",
    "    if i < MAX_VOCAB_SIZE:\n",
    "        # using get here to prevent exception if word not found\n",
    "        embedding_vector = word2vec.get(word)\n",
    "        if embedding_vector is not None:\n",
    "            # a vector of all zeroes = words not found in embedding vector (pre-trained stuff)\n",
    "            embedding_matrix[i] = embedding_vector"
   ]
  },
  {
   "cell_type": "code",
   "execution_count": 59,
   "metadata": {},
   "outputs": [],
   "source": [
    "# load pre-trained word embeddings into embedding layer\n",
    "# trainable = False to keep embedding fixed during BP\n",
    "# Visualize how one hot encoding [0,0,0,0,....1,....0]\n",
    "# will point to one of the word's vector based representation\n",
    "# from the pre-trained gloves\n",
    "embedding_layer = Embedding(\n",
    "    num_words,\n",
    "    EMBEDDING_DIM,\n",
    "    weights=[embedding_matrix],\n",
    "    input_length=MAX_SEQUENCE_LENGTH,\n",
    "    trainable=False\n",
    ")"
   ]
  },
  {
   "cell_type": "code",
   "execution_count": 64,
   "metadata": {},
   "outputs": [
    {
     "name": "stdout",
     "output_type": "stream",
     "text": [
      "Building model....\n",
      "Model: \"model_2\"\n",
      "_________________________________________________________________\n",
      "Layer (type)                 Output Shape              Param #   \n",
      "=================================================================\n",
      "input_5 (InputLayer)         (None, 100)               0         \n",
      "_________________________________________________________________\n",
      "embedding_1 (Embedding)      (None, 100, 100)          2000000   \n",
      "_________________________________________________________________\n",
      "conv1d_4 (Conv1D)            (None, 98, 128)           38528     \n",
      "_________________________________________________________________\n",
      "max_pooling1d_3 (MaxPooling1 (None, 32, 128)           0         \n",
      "_________________________________________________________________\n",
      "conv1d_5 (Conv1D)            (None, 30, 128)           49280     \n",
      "_________________________________________________________________\n",
      "max_pooling1d_4 (MaxPooling1 (None, 10, 128)           0         \n",
      "_________________________________________________________________\n",
      "conv1d_6 (Conv1D)            (None, 8, 128)            49280     \n",
      "_________________________________________________________________\n",
      "global_max_pooling1d_2 (Glob (None, 128)               0         \n",
      "_________________________________________________________________\n",
      "dense_3 (Dense)              (None, 128)               16512     \n",
      "_________________________________________________________________\n",
      "dense_4 (Dense)              (None, 6)                 774       \n",
      "=================================================================\n",
      "Total params: 2,154,374\n",
      "Trainable params: 154,374\n",
      "Non-trainable params: 2,000,000\n",
      "_________________________________________________________________\n"
     ]
    }
   ],
   "source": [
    "print('Building model....')\n",
    "## Specify the dimensions except sample size since that is implicit\n",
    "## Batch size will break down data into D x 128 (t = 128) and feed into the network\n",
    "## Therefore Conv1D will want to keep t at 128 and only change on D the number of features\n",
    "input_ = Input(shape=(MAX_SEQUENCE_LENGTH,))\n",
    "x = embedding_layer(input_)\n",
    "x = Conv1D(128, 3, activation='relu')(x)\n",
    "x = MaxPooling1D(3)(x)\n",
    "x = Conv1D(128, 3, activation='relu')(x)\n",
    "x = MaxPooling1D(3)(x)\n",
    "x = Conv1D(128, 3, activation='relu')(x)\n",
    "## Given T = length of sequence and D = number of features\n",
    "## GlobalMaxPooling will pick the most important value for each\n",
    "## timesstep (in this case the timestep is 128)\n",
    "x = GlobalMaxPooling1D()(x)\n",
    "x = Dense(128, activation='relu')(x)\n",
    "output = Dense(len(possible_labels), activation='sigmoid')(x)\n",
    "model = Model(input_, output)\n",
    "model.summary()"
   ]
  },
  {
   "cell_type": "code",
   "execution_count": 69,
   "metadata": {},
   "outputs": [],
   "source": [
    "model.compile(\n",
    "    loss='binary_crossentropy',\n",
    "    optimizer='adam',\n",
    "    metrics=['accuracy']\n",
    ")"
   ]
  },
  {
   "cell_type": "code",
   "execution_count": 70,
   "metadata": {},
   "outputs": [
    {
     "name": "stdout",
     "output_type": "stream",
     "text": [
      "Train on 127656 samples, validate on 31915 samples\n",
      "Epoch 1/10\n",
      "127656/127656 [==============================] - 79s 621us/step - loss: 0.0833 - accuracy: 0.9733 - val_loss: 0.0697 - val_accuracy: 0.9768\n",
      "Epoch 2/10\n",
      "127656/127656 [==============================] - 80s 626us/step - loss: 0.0649 - accuracy: 0.9778 - val_loss: 0.0670 - val_accuracy: 0.9766\n",
      "Epoch 3/10\n",
      "127656/127656 [==============================] - 93s 725us/step - loss: 0.0601 - accuracy: 0.9789 - val_loss: 0.0666 - val_accuracy: 0.9767\n",
      "Epoch 4/10\n",
      "127656/127656 [==============================] - 100s 780us/step - loss: 0.0559 - accuracy: 0.9801 - val_loss: 0.0664 - val_accuracy: 0.9776\n",
      "Epoch 5/10\n",
      "127656/127656 [==============================] - 91s 712us/step - loss: 0.0521 - accuracy: 0.9809 - val_loss: 0.0670 - val_accuracy: 0.9775\n",
      "Epoch 6/10\n",
      "127656/127656 [==============================] - 108s 850us/step - loss: 0.0479 - accuracy: 0.9822 - val_loss: 0.0700 - val_accuracy: 0.9774\n",
      "Epoch 7/10\n",
      "127656/127656 [==============================] - 109s 851us/step - loss: 0.0444 - accuracy: 0.9830 - val_loss: 0.0748 - val_accuracy: 0.9772\n",
      "Epoch 8/10\n",
      "127656/127656 [==============================] - 89s 694us/step - loss: 0.0413 - accuracy: 0.9843 - val_loss: 0.0777 - val_accuracy: 0.9768\n",
      "Epoch 9/10\n",
      "127656/127656 [==============================] - 87s 682us/step - loss: 0.0380 - accuracy: 0.9854 - val_loss: 0.0785 - val_accuracy: 0.9759\n",
      "Epoch 10/10\n",
      "127656/127656 [==============================] - 87s 681us/step - loss: 0.0349 - accuracy: 0.9865 - val_loss: 0.0816 - val_accuracy: 0.9754\n"
     ]
    }
   ],
   "source": [
    "r = model.fit(\n",
    "    data,\n",
    "    targets,\n",
    "    batch_size=BATCH_SIZE,\n",
    "    epochs=EPOCHS,\n",
    "    validation_split=VALIDATION_SPLIT\n",
    ")"
   ]
  },
  {
   "cell_type": "code",
   "execution_count": 71,
   "metadata": {},
   "outputs": [
    {
     "data": {
      "text/plain": [
       "<matplotlib.legend.Legend at 0x1a48f62d90>"
      ]
     },
     "execution_count": 71,
     "metadata": {},
     "output_type": "execute_result"
    },
    {
     "data": {
      "image/png": "[encoded data removed]",
      "text/plain": [
       "<Figure size 432x288 with 1 Axes>"
      ]
     },
     "metadata": {
      "needs_background": "light"
     },
     "output_type": "display_data"
    }
   ],
   "source": [
    "plt.plot(r.history['loss'], label='loss')\n",
    "plt.plot(r.history['val_loss'], label='val_loss')\n",
    "plt.legend()"
   ]
  },
  {
   "cell_type": "code",
   "execution_count": 74,
   "metadata": {},
   "outputs": [
    {
     "data": {
      "image/png": "[encoded data removed]",
      "text/plain": [
       "<Figure size 432x288 with 1 Axes>"
      ]
     },
     "metadata": {
      "needs_background": "light"
     },
     "output_type": "display_data"
    }
   ],
   "source": [
    "plt.plot(r.history['accuracy'], label='accuracy')\n",
    "plt.plot(r.history['val_accuracy'], label='val_accuracy')\n",
    "plt.legend()\n",
    "plt.show()"
   ]
  },
  {
   "cell_type": "code",
   "execution_count": 76,
   "metadata": {},
   "outputs": [
    {
     "name": "stdout",
     "output_type": "stream",
     "text": [
      "0.9848289024548326\n"
     ]
    }
   ],
   "source": [
    "p = model.predict(data)\n",
    "aucs = []\n",
    "for j in range(6):\n",
    "    auc=roc_auc_score(targets[:, j], p[:, j])\n",
    "    aucs.append(auc)\n",
    "print(np.mean(aucs))"
   ]
  }
 ],
 "metadata": {
  "kernelspec": {
   "display_name": "Python 3",
   "language": "python",
   "name": "python3"
  },
  "language_info": {
   "codemirror_mode": {
    "name": "ipython",
    "version": 3
   },
   "file_extension": ".py",
   "mimetype": "text/x-python",
   "name": "python",
   "nbconvert_exporter": "python",
   "pygments_lexer": "ipython3",
   "version": "3.7.4"
  }
 },
 "nbformat": 4,
 "nbformat_minor": 4
}
